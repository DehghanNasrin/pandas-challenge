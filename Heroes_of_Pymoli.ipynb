{
 "cells": [
  {
   "cell_type": "code",
   "execution_count": 1,
   "id": "e97ea2e3",
   "metadata": {},
   "outputs": [
    {
     "data": {
      "text/html": [
       "<div>\n",
       "<style scoped>\n",
       "    .dataframe tbody tr th:only-of-type {\n",
       "        vertical-align: middle;\n",
       "    }\n",
       "\n",
       "    .dataframe tbody tr th {\n",
       "        vertical-align: top;\n",
       "    }\n",
       "\n",
       "    .dataframe thead th {\n",
       "        text-align: right;\n",
       "    }\n",
       "</style>\n",
       "<table border=\"1\" class=\"dataframe\">\n",
       "  <thead>\n",
       "    <tr style=\"text-align: right;\">\n",
       "      <th></th>\n",
       "      <th>Purchase ID</th>\n",
       "      <th>SN</th>\n",
       "      <th>Age</th>\n",
       "      <th>Gender</th>\n",
       "      <th>Item ID</th>\n",
       "      <th>Item Name</th>\n",
       "      <th>Price</th>\n",
       "    </tr>\n",
       "  </thead>\n",
       "  <tbody>\n",
       "    <tr>\n",
       "      <th>0</th>\n",
       "      <td>0</td>\n",
       "      <td>Lisim78</td>\n",
       "      <td>20</td>\n",
       "      <td>Male</td>\n",
       "      <td>108</td>\n",
       "      <td>Extraction, Quickblade Of Trembling Hands</td>\n",
       "      <td>3.53</td>\n",
       "    </tr>\n",
       "    <tr>\n",
       "      <th>1</th>\n",
       "      <td>1</td>\n",
       "      <td>Lisovynya38</td>\n",
       "      <td>40</td>\n",
       "      <td>Male</td>\n",
       "      <td>143</td>\n",
       "      <td>Frenzied Scimitar</td>\n",
       "      <td>1.56</td>\n",
       "    </tr>\n",
       "    <tr>\n",
       "      <th>2</th>\n",
       "      <td>2</td>\n",
       "      <td>Ithergue48</td>\n",
       "      <td>24</td>\n",
       "      <td>Male</td>\n",
       "      <td>92</td>\n",
       "      <td>Final Critic</td>\n",
       "      <td>4.88</td>\n",
       "    </tr>\n",
       "    <tr>\n",
       "      <th>3</th>\n",
       "      <td>3</td>\n",
       "      <td>Chamassasya86</td>\n",
       "      <td>24</td>\n",
       "      <td>Male</td>\n",
       "      <td>100</td>\n",
       "      <td>Blindscythe</td>\n",
       "      <td>3.27</td>\n",
       "    </tr>\n",
       "    <tr>\n",
       "      <th>4</th>\n",
       "      <td>4</td>\n",
       "      <td>Iskosia90</td>\n",
       "      <td>23</td>\n",
       "      <td>Male</td>\n",
       "      <td>131</td>\n",
       "      <td>Fury</td>\n",
       "      <td>1.44</td>\n",
       "    </tr>\n",
       "  </tbody>\n",
       "</table>\n",
       "</div>"
      ],
      "text/plain": [
       "   Purchase ID             SN  Age Gender  Item ID  \\\n",
       "0            0        Lisim78   20   Male      108   \n",
       "1            1    Lisovynya38   40   Male      143   \n",
       "2            2     Ithergue48   24   Male       92   \n",
       "3            3  Chamassasya86   24   Male      100   \n",
       "4            4      Iskosia90   23   Male      131   \n",
       "\n",
       "                                   Item Name  Price  \n",
       "0  Extraction, Quickblade Of Trembling Hands   3.53  \n",
       "1                          Frenzied Scimitar   1.56  \n",
       "2                               Final Critic   4.88  \n",
       "3                                Blindscythe   3.27  \n",
       "4                                       Fury   1.44  "
      ]
     },
     "execution_count": 1,
     "metadata": {},
     "output_type": "execute_result"
    }
   ],
   "source": [
    "import pandas as pd\n",
    "file= \"Resources/purchase_data.csv\"\n",
    "purchaseDataFrame= pd.read_csv(file)\n",
    "purchaseDataFrame.head()"
   ]
  },
  {
   "cell_type": "code",
   "execution_count": 2,
   "id": "2776cc64",
   "metadata": {},
   "outputs": [
    {
     "data": {
      "text/html": [
       "<div>\n",
       "<style scoped>\n",
       "    .dataframe tbody tr th:only-of-type {\n",
       "        vertical-align: middle;\n",
       "    }\n",
       "\n",
       "    .dataframe tbody tr th {\n",
       "        vertical-align: top;\n",
       "    }\n",
       "\n",
       "    .dataframe thead th {\n",
       "        text-align: right;\n",
       "    }\n",
       "</style>\n",
       "<table border=\"1\" class=\"dataframe\">\n",
       "  <thead>\n",
       "    <tr style=\"text-align: right;\">\n",
       "      <th></th>\n",
       "      <th>Total Players</th>\n",
       "    </tr>\n",
       "  </thead>\n",
       "  <tbody>\n",
       "    <tr>\n",
       "      <th>0</th>\n",
       "      <td>576</td>\n",
       "    </tr>\n",
       "  </tbody>\n",
       "</table>\n",
       "</div>"
      ],
      "text/plain": [
       "   Total Players\n",
       "0            576"
      ]
     },
     "execution_count": 2,
     "metadata": {},
     "output_type": "execute_result"
    }
   ],
   "source": [
    "totalPlayers = len(purchaseDataFrame[\"SN\"].value_counts())\n",
    "playersCount = pd.DataFrame({\"Total Players\": [totalPlayers]})\n",
    "playersCount"
   ]
  },
  {
   "cell_type": "code",
   "execution_count": 3,
   "id": "b597a35b",
   "metadata": {},
   "outputs": [
    {
     "data": {
      "text/html": [
       "<style  type=\"text/css\" >\n",
       "</style><table id=\"T_8aa86_\" ><thead>    <tr>        <th class=\"blank level0\" ></th>        <th class=\"col_heading level0 col0\" >Number of Unique Items</th>        <th class=\"col_heading level0 col1\" >Average Price</th>        <th class=\"col_heading level0 col2\" >Number of Purchases</th>        <th class=\"col_heading level0 col3\" >Total Revenue</th>    </tr></thead><tbody>\n",
       "                <tr>\n",
       "                        <th id=\"T_8aa86_level0_row0\" class=\"row_heading level0 row0\" >0</th>\n",
       "                        <td id=\"T_8aa86_row0_col0\" class=\"data row0 col0\" >179</td>\n",
       "                        <td id=\"T_8aa86_row0_col1\" class=\"data row0 col1\" >$3.05</td>\n",
       "                        <td id=\"T_8aa86_row0_col2\" class=\"data row0 col2\" >780</td>\n",
       "                        <td id=\"T_8aa86_row0_col3\" class=\"data row0 col3\" >$2,379.77</td>\n",
       "            </tr>\n",
       "    </tbody></table>"
      ],
      "text/plain": [
       "<pandas.io.formats.style.Styler at 0x2810aa99820>"
      ]
     },
     "execution_count": 3,
     "metadata": {},
     "output_type": "execute_result"
    }
   ],
   "source": [
    "numberOfUniqueItems = len((purchaseDataFrame[\"Item ID\"]).unique())\n",
    "averagePrice = (purchaseDataFrame[\"Price\"]).mean()\n",
    "numberOfPurchases = len(purchaseDataFrame[\"Purchase ID\"])\n",
    "totalRevenue = (purchaseDataFrame[\"Price\"]).sum()\n",
    "\n",
    "purchasingAnalysisData = pd.DataFrame({\"Number of Unique Items\": [numberOfUniqueItems],\n",
    "                                       \"Average Price\": [averagePrice],\n",
    "                                       \"Number of Purchases\":[numberOfPurchases],\n",
    "                                       \"Total Revenue\":[totalRevenue]})\n",
    "\n",
    "purchasingAnalysisData.style.format({'Average Price' : \"${:,.2f}\",\n",
    "                                    'Total Revenue': \"${:,}\"})"
   ]
  },
  {
   "cell_type": "code",
   "execution_count": 4,
   "id": "444f5210",
   "metadata": {},
   "outputs": [
    {
     "data": {
      "text/html": [
       "<style  type=\"text/css\" >\n",
       "</style><table id=\"T_5e221_\" ><thead>    <tr>        <th class=\"blank level0\" ></th>        <th class=\"col_heading level0 col0\" >Total Count</th>        <th class=\"col_heading level0 col1\" >Percentage of Players</th>    </tr>    <tr>        <th class=\"index_name level0\" >Gender</th>        <th class=\"blank\" ></th>        <th class=\"blank\" ></th>    </tr></thead><tbody>\n",
       "                <tr>\n",
       "                        <th id=\"T_5e221_level0_row0\" class=\"row_heading level0 row0\" >Male</th>\n",
       "                        <td id=\"T_5e221_row0_col0\" class=\"data row0 col0\" >484</td>\n",
       "                        <td id=\"T_5e221_row0_col1\" class=\"data row0 col1\" >$84.03</td>\n",
       "            </tr>\n",
       "            <tr>\n",
       "                        <th id=\"T_5e221_level0_row1\" class=\"row_heading level0 row1\" >Female</th>\n",
       "                        <td id=\"T_5e221_row1_col0\" class=\"data row1 col0\" >81</td>\n",
       "                        <td id=\"T_5e221_row1_col1\" class=\"data row1 col1\" >$14.06</td>\n",
       "            </tr>\n",
       "            <tr>\n",
       "                        <th id=\"T_5e221_level0_row2\" class=\"row_heading level0 row2\" >Other / Non-Disclosed</th>\n",
       "                        <td id=\"T_5e221_row2_col0\" class=\"data row2 col0\" >11</td>\n",
       "                        <td id=\"T_5e221_row2_col1\" class=\"data row2 col1\" >$1.91</td>\n",
       "            </tr>\n",
       "    </tbody></table>"
      ],
      "text/plain": [
       "<pandas.io.formats.style.Styler at 0x2810dbfe0a0>"
      ]
     },
     "execution_count": 4,
     "metadata": {},
     "output_type": "execute_result"
    }
   ],
   "source": [
    "genderGroup=purchaseDataFrame.groupby(\"Gender\")\n",
    "totalCount=genderGroup.nunique()[\"SN\"]\n",
    "percentagePlayers=(totalCount/totalPlayers)*100\n",
    "\n",
    "genderDemographics=pd.DataFrame({\"Total Count\":totalCount, \"Percentage of Players\": percentagePlayers})\n",
    "genderDemographics.sort_values([\"Total Count\"], ascending=False).style.format({'Percentage of Players' : \"%{:,.2f}\"})\n"
   ]
  },
  {
   "cell_type": "code",
   "execution_count": 5,
   "id": "c73c65b1",
   "metadata": {},
   "outputs": [
    {
     "data": {
      "text/html": [
       "<style  type=\"text/css\" >\n",
       "</style><table id=\"T_73e1f_\" ><thead>    <tr>        <th class=\"blank level0\" ></th>        <th class=\"col_heading level0 col0\" >Purchase Count</th>        <th class=\"col_heading level0 col1\" >Average Purchase Price</th>        <th class=\"col_heading level0 col2\" >Total Purchase Value</th>        <th class=\"col_heading level0 col3\" >Avg Total Purchase per Person</th>    </tr>    <tr>        <th class=\"index_name level0\" >Gender</th>        <th class=\"blank\" ></th>        <th class=\"blank\" ></th>        <th class=\"blank\" ></th>        <th class=\"blank\" ></th>    </tr></thead><tbody>\n",
       "                <tr>\n",
       "                        <th id=\"T_73e1f_level0_row0\" class=\"row_heading level0 row0\" >Female</th>\n",
       "                        <td id=\"T_73e1f_row0_col0\" class=\"data row0 col0\" >113</td>\n",
       "                        <td id=\"T_73e1f_row0_col1\" class=\"data row0 col1\" >$3.20</td>\n",
       "                        <td id=\"T_73e1f_row0_col2\" class=\"data row0 col2\" >$361.94</td>\n",
       "                        <td id=\"T_73e1f_row0_col3\" class=\"data row0 col3\" >$4.47</td>\n",
       "            </tr>\n",
       "            <tr>\n",
       "                        <th id=\"T_73e1f_level0_row1\" class=\"row_heading level0 row1\" >Male</th>\n",
       "                        <td id=\"T_73e1f_row1_col0\" class=\"data row1 col0\" >652</td>\n",
       "                        <td id=\"T_73e1f_row1_col1\" class=\"data row1 col1\" >$3.02</td>\n",
       "                        <td id=\"T_73e1f_row1_col2\" class=\"data row1 col2\" >$1,967.64</td>\n",
       "                        <td id=\"T_73e1f_row1_col3\" class=\"data row1 col3\" >$4.07</td>\n",
       "            </tr>\n",
       "            <tr>\n",
       "                        <th id=\"T_73e1f_level0_row2\" class=\"row_heading level0 row2\" >Other / Non-Disclosed</th>\n",
       "                        <td id=\"T_73e1f_row2_col0\" class=\"data row2 col0\" >15</td>\n",
       "                        <td id=\"T_73e1f_row2_col1\" class=\"data row2 col1\" >$3.35</td>\n",
       "                        <td id=\"T_73e1f_row2_col2\" class=\"data row2 col2\" >$50.19</td>\n",
       "                        <td id=\"T_73e1f_row2_col3\" class=\"data row2 col3\" >$4.56</td>\n",
       "            </tr>\n",
       "    </tbody></table>"
      ],
      "text/plain": [
       "<pandas.io.formats.style.Styler at 0x2810dd53ac0>"
      ]
     },
     "execution_count": 5,
     "metadata": {},
     "output_type": "execute_result"
    }
   ],
   "source": [
    "purchaseCount=genderGroup[\"Purchase ID\"].count()\n",
    "averagePurchasePrice=genderGroup[\"Price\"].mean()\n",
    "totalPurchaseValue=genderGroup[\"Price\"].sum()\n",
    "averageTotalPurchasePerPerson=totalPurchaseValue/totalCount\n",
    "purchasingAnalysisData=pd.DataFrame({\"Purchase Count\":purchaseCount,\n",
    "                                    \"Average Purchase Price\":averagePurchasePrice,\n",
    "                                    \"Total Purchase Value\":totalPurchaseValue,\n",
    "                                    \"Avg Total Purchase per Person\":averageTotalPurchasePerPerson})\n",
    "\n",
    "purchasingAnalysisData.style.format({\"Average Purchase Price\" : \"${:,.2f}\",\n",
    "                                     \"Total Purchase Value\":\"${:,.2f}\",\n",
    "                                     \"Avg Total Purchase per Person\":\"${:,.2f}\"})  "
   ]
  },
  {
   "cell_type": "code",
   "execution_count": 6,
   "id": "4e740ed7",
   "metadata": {},
   "outputs": [
    {
     "data": {
      "text/html": [
       "<style  type=\"text/css\" >\n",
       "</style><table id=\"T_a75df_\" ><thead>    <tr>        <th class=\"blank level0\" ></th>        <th class=\"col_heading level0 col0\" >Total Count</th>        <th class=\"col_heading level0 col1\" >Percentage of Players</th>    </tr></thead><tbody>\n",
       "                <tr>\n",
       "                        <th id=\"T_a75df_level0_row0\" class=\"row_heading level0 row0\" ><10</th>\n",
       "                        <td id=\"T_a75df_row0_col0\" class=\"data row0 col0\" >17</td>\n",
       "                        <td id=\"T_a75df_row0_col1\" class=\"data row0 col1\" >2.95%</td>\n",
       "            </tr>\n",
       "            <tr>\n",
       "                        <th id=\"T_a75df_level0_row1\" class=\"row_heading level0 row1\" >10-14</th>\n",
       "                        <td id=\"T_a75df_row1_col0\" class=\"data row1 col0\" >22</td>\n",
       "                        <td id=\"T_a75df_row1_col1\" class=\"data row1 col1\" >3.82%</td>\n",
       "            </tr>\n",
       "            <tr>\n",
       "                        <th id=\"T_a75df_level0_row2\" class=\"row_heading level0 row2\" >15-19</th>\n",
       "                        <td id=\"T_a75df_row2_col0\" class=\"data row2 col0\" >107</td>\n",
       "                        <td id=\"T_a75df_row2_col1\" class=\"data row2 col1\" >18.58%</td>\n",
       "            </tr>\n",
       "            <tr>\n",
       "                        <th id=\"T_a75df_level0_row3\" class=\"row_heading level0 row3\" >20-24</th>\n",
       "                        <td id=\"T_a75df_row3_col0\" class=\"data row3 col0\" >258</td>\n",
       "                        <td id=\"T_a75df_row3_col1\" class=\"data row3 col1\" >44.79%</td>\n",
       "            </tr>\n",
       "            <tr>\n",
       "                        <th id=\"T_a75df_level0_row4\" class=\"row_heading level0 row4\" >25-29</th>\n",
       "                        <td id=\"T_a75df_row4_col0\" class=\"data row4 col0\" >77</td>\n",
       "                        <td id=\"T_a75df_row4_col1\" class=\"data row4 col1\" >13.37%</td>\n",
       "            </tr>\n",
       "            <tr>\n",
       "                        <th id=\"T_a75df_level0_row5\" class=\"row_heading level0 row5\" >30-34</th>\n",
       "                        <td id=\"T_a75df_row5_col0\" class=\"data row5 col0\" >52</td>\n",
       "                        <td id=\"T_a75df_row5_col1\" class=\"data row5 col1\" >9.03%</td>\n",
       "            </tr>\n",
       "            <tr>\n",
       "                        <th id=\"T_a75df_level0_row6\" class=\"row_heading level0 row6\" >35-39</th>\n",
       "                        <td id=\"T_a75df_row6_col0\" class=\"data row6 col0\" >31</td>\n",
       "                        <td id=\"T_a75df_row6_col1\" class=\"data row6 col1\" >5.38%</td>\n",
       "            </tr>\n",
       "            <tr>\n",
       "                        <th id=\"T_a75df_level0_row7\" class=\"row_heading level0 row7\" >40+</th>\n",
       "                        <td id=\"T_a75df_row7_col0\" class=\"data row7 col0\" >12</td>\n",
       "                        <td id=\"T_a75df_row7_col1\" class=\"data row7 col1\" >2.08%</td>\n",
       "            </tr>\n",
       "    </tbody></table>"
      ],
      "text/plain": [
       "<pandas.io.formats.style.Styler at 0x2810aa8ec10>"
      ]
     },
     "execution_count": 6,
     "metadata": {},
     "output_type": "execute_result"
    }
   ],
   "source": [
    "bins = [0, 9.99, 14.99, 19.99, 24.99, 29.99, 34.99, 39.99, 99999]\n",
    "labels = [\"<10\", \"10-14\", \"15-19\", \"20-24\", \"25-29\", \"30-34\", \"35-39\", \"40+\"]\n",
    "purchaseDataFrame[\"Age Group\"] = pd.cut(purchaseDataFrame[\"Age\"], bins, labels = labels)\n",
    "purchaseDataFrame\n",
    "groupedAge = purchaseDataFrame.groupby(\"Age Group\")\n",
    "totalCountAge = groupedAge[\"SN\"].nunique()\n",
    "totalPlayers = len(purchaseDataFrame[\"SN\"].value_counts())\n",
    "percentageByAge = (totalCountAge / totalPlayers) * 100\n",
    "ageDemographics = pd.DataFrame({\"Total Count\": totalCountAge,\"Percentage of Players\": percentageByAge})\n",
    "ageDemographics.index.name = None\n",
    "ageDemographics.style.format({\"Percentage of Players\":\"{:,.2f}%\"})"
   ]
  },
  {
   "cell_type": "code",
   "execution_count": 7,
   "id": "f252eaea",
   "metadata": {},
   "outputs": [
    {
     "data": {
      "text/html": [
       "<style  type=\"text/css\" >\n",
       "</style><table id=\"T_71a13_\" ><thead>    <tr>        <th class=\"blank level0\" ></th>        <th class=\"col_heading level0 col0\" >Purchase Count</th>        <th class=\"col_heading level0 col1\" >Average Purchase Price</th>        <th class=\"col_heading level0 col2\" >Total Purchase Value</th>        <th class=\"col_heading level0 col3\" >Average Purchase Total per Person</th>    </tr>    <tr>        <th class=\"index_name level0\" >Age Ranges</th>        <th class=\"blank\" ></th>        <th class=\"blank\" ></th>        <th class=\"blank\" ></th>        <th class=\"blank\" ></th>    </tr></thead><tbody>\n",
       "                <tr>\n",
       "                        <th id=\"T_71a13_level0_row0\" class=\"row_heading level0 row0\" ><10</th>\n",
       "                        <td id=\"T_71a13_row0_col0\" class=\"data row0 col0\" >23</td>\n",
       "                        <td id=\"T_71a13_row0_col1\" class=\"data row0 col1\" >$3.35</td>\n",
       "                        <td id=\"T_71a13_row0_col2\" class=\"data row0 col2\" >$77.13</td>\n",
       "                        <td id=\"T_71a13_row0_col3\" class=\"data row0 col3\" >$4.54</td>\n",
       "            </tr>\n",
       "            <tr>\n",
       "                        <th id=\"T_71a13_level0_row1\" class=\"row_heading level0 row1\" >10-14</th>\n",
       "                        <td id=\"T_71a13_row1_col0\" class=\"data row1 col0\" >28</td>\n",
       "                        <td id=\"T_71a13_row1_col1\" class=\"data row1 col1\" >$2.96</td>\n",
       "                        <td id=\"T_71a13_row1_col2\" class=\"data row1 col2\" >$82.78</td>\n",
       "                        <td id=\"T_71a13_row1_col3\" class=\"data row1 col3\" >$3.76</td>\n",
       "            </tr>\n",
       "            <tr>\n",
       "                        <th id=\"T_71a13_level0_row2\" class=\"row_heading level0 row2\" >15-19</th>\n",
       "                        <td id=\"T_71a13_row2_col0\" class=\"data row2 col0\" >136</td>\n",
       "                        <td id=\"T_71a13_row2_col1\" class=\"data row2 col1\" >$3.04</td>\n",
       "                        <td id=\"T_71a13_row2_col2\" class=\"data row2 col2\" >$412.89</td>\n",
       "                        <td id=\"T_71a13_row2_col3\" class=\"data row2 col3\" >$3.86</td>\n",
       "            </tr>\n",
       "            <tr>\n",
       "                        <th id=\"T_71a13_level0_row3\" class=\"row_heading level0 row3\" >20-24</th>\n",
       "                        <td id=\"T_71a13_row3_col0\" class=\"data row3 col0\" >365</td>\n",
       "                        <td id=\"T_71a13_row3_col1\" class=\"data row3 col1\" >$3.05</td>\n",
       "                        <td id=\"T_71a13_row3_col2\" class=\"data row3 col2\" >$1,114.06</td>\n",
       "                        <td id=\"T_71a13_row3_col3\" class=\"data row3 col3\" >$4.32</td>\n",
       "            </tr>\n",
       "            <tr>\n",
       "                        <th id=\"T_71a13_level0_row4\" class=\"row_heading level0 row4\" >25-29</th>\n",
       "                        <td id=\"T_71a13_row4_col0\" class=\"data row4 col0\" >101</td>\n",
       "                        <td id=\"T_71a13_row4_col1\" class=\"data row4 col1\" >$2.90</td>\n",
       "                        <td id=\"T_71a13_row4_col2\" class=\"data row4 col2\" >$293.00</td>\n",
       "                        <td id=\"T_71a13_row4_col3\" class=\"data row4 col3\" >$3.81</td>\n",
       "            </tr>\n",
       "            <tr>\n",
       "                        <th id=\"T_71a13_level0_row5\" class=\"row_heading level0 row5\" >30-34</th>\n",
       "                        <td id=\"T_71a13_row5_col0\" class=\"data row5 col0\" >73</td>\n",
       "                        <td id=\"T_71a13_row5_col1\" class=\"data row5 col1\" >$2.93</td>\n",
       "                        <td id=\"T_71a13_row5_col2\" class=\"data row5 col2\" >$214.00</td>\n",
       "                        <td id=\"T_71a13_row5_col3\" class=\"data row5 col3\" >$4.12</td>\n",
       "            </tr>\n",
       "            <tr>\n",
       "                        <th id=\"T_71a13_level0_row6\" class=\"row_heading level0 row6\" >35-39</th>\n",
       "                        <td id=\"T_71a13_row6_col0\" class=\"data row6 col0\" >41</td>\n",
       "                        <td id=\"T_71a13_row6_col1\" class=\"data row6 col1\" >$3.60</td>\n",
       "                        <td id=\"T_71a13_row6_col2\" class=\"data row6 col2\" >$147.67</td>\n",
       "                        <td id=\"T_71a13_row6_col3\" class=\"data row6 col3\" >$4.76</td>\n",
       "            </tr>\n",
       "            <tr>\n",
       "                        <th id=\"T_71a13_level0_row7\" class=\"row_heading level0 row7\" >40+</th>\n",
       "                        <td id=\"T_71a13_row7_col0\" class=\"data row7 col0\" >13</td>\n",
       "                        <td id=\"T_71a13_row7_col1\" class=\"data row7 col1\" >$2.94</td>\n",
       "                        <td id=\"T_71a13_row7_col2\" class=\"data row7 col2\" >$38.24</td>\n",
       "                        <td id=\"T_71a13_row7_col3\" class=\"data row7 col3\" >$3.19</td>\n",
       "            </tr>\n",
       "    </tbody></table>"
      ],
      "text/plain": [
       "<pandas.io.formats.style.Styler at 0x2810dd539d0>"
      ]
     },
     "execution_count": 7,
     "metadata": {},
     "output_type": "execute_result"
    }
   ],
   "source": [
    "purchaseCountAge = groupedAge[\"Purchase ID\"].count()\n",
    "avgPurchasePriceAge = groupedAge[\"Price\"].mean()\n",
    "totalPurchaseValue = groupedAge[\"Price\"].sum()\n",
    "avgPurchasePerPersonAge = totalPurchaseValue/totalCountAge\n",
    "ageDemographics = pd.DataFrame({\"Purchase Count\": purchaseCountAge,\n",
    "                                 \"Average Purchase Price\": avgPurchasePriceAge,\n",
    "                                 \"Total Purchase Value\":totalPurchaseValue,\n",
    "                                 \"Average Purchase Total per Person\": avgPurchasePerPersonAge})\n",
    "\n",
    "ageDemographics.index.name = \"Age Ranges\"\n",
    "ageDemographics.style.format({\"Average Purchase Price\":\"${:,.2f}\",\n",
    "                               \"Total Purchase Value\":\"${:,.2f}\",\n",
    "                               \"Average Purchase Total per Person\":\"${:,.2f}\"})"
   ]
  },
  {
   "cell_type": "code",
   "execution_count": 8,
   "id": "08fb87ea",
   "metadata": {},
   "outputs": [
    {
     "data": {
      "text/html": [
       "<style  type=\"text/css\" >\n",
       "</style><table id=\"T_7136a_\" ><thead>    <tr>        <th class=\"blank level0\" ></th>        <th class=\"col_heading level0 col0\" >Purchase Count</th>        <th class=\"col_heading level0 col1\" >Average Purchase Price</th>        <th class=\"col_heading level0 col2\" >Total Purchase Value</th>    </tr>    <tr>        <th class=\"index_name level0\" >SN</th>        <th class=\"blank\" ></th>        <th class=\"blank\" ></th>        <th class=\"blank\" ></th>    </tr></thead><tbody>\n",
       "                <tr>\n",
       "                        <th id=\"T_7136a_level0_row0\" class=\"row_heading level0 row0\" >Lisosia93</th>\n",
       "                        <td id=\"T_7136a_row0_col0\" class=\"data row0 col0\" >5</td>\n",
       "                        <td id=\"T_7136a_row0_col1\" class=\"data row0 col1\" >$3.79</td>\n",
       "                        <td id=\"T_7136a_row0_col2\" class=\"data row0 col2\" >$18.96</td>\n",
       "            </tr>\n",
       "            <tr>\n",
       "                        <th id=\"T_7136a_level0_row1\" class=\"row_heading level0 row1\" >Idastidru52</th>\n",
       "                        <td id=\"T_7136a_row1_col0\" class=\"data row1 col0\" >4</td>\n",
       "                        <td id=\"T_7136a_row1_col1\" class=\"data row1 col1\" >$3.86</td>\n",
       "                        <td id=\"T_7136a_row1_col2\" class=\"data row1 col2\" >$15.45</td>\n",
       "            </tr>\n",
       "            <tr>\n",
       "                        <th id=\"T_7136a_level0_row2\" class=\"row_heading level0 row2\" >Chamjask73</th>\n",
       "                        <td id=\"T_7136a_row2_col0\" class=\"data row2 col0\" >3</td>\n",
       "                        <td id=\"T_7136a_row2_col1\" class=\"data row2 col1\" >$4.61</td>\n",
       "                        <td id=\"T_7136a_row2_col2\" class=\"data row2 col2\" >$13.83</td>\n",
       "            </tr>\n",
       "            <tr>\n",
       "                        <th id=\"T_7136a_level0_row3\" class=\"row_heading level0 row3\" >Iral74</th>\n",
       "                        <td id=\"T_7136a_row3_col0\" class=\"data row3 col0\" >4</td>\n",
       "                        <td id=\"T_7136a_row3_col1\" class=\"data row3 col1\" >$3.40</td>\n",
       "                        <td id=\"T_7136a_row3_col2\" class=\"data row3 col2\" >$13.62</td>\n",
       "            </tr>\n",
       "            <tr>\n",
       "                        <th id=\"T_7136a_level0_row4\" class=\"row_heading level0 row4\" >Iskadarya95</th>\n",
       "                        <td id=\"T_7136a_row4_col0\" class=\"data row4 col0\" >3</td>\n",
       "                        <td id=\"T_7136a_row4_col1\" class=\"data row4 col1\" >$4.37</td>\n",
       "                        <td id=\"T_7136a_row4_col2\" class=\"data row4 col2\" >$13.10</td>\n",
       "            </tr>\n",
       "    </tbody></table>"
      ],
      "text/plain": [
       "<pandas.io.formats.style.Styler at 0x2810cbd2fd0>"
      ]
     },
     "execution_count": 8,
     "metadata": {},
     "output_type": "execute_result"
    }
   ],
   "source": [
    "groupedSpenders = purchaseDataFrame.groupby(\"SN\")\n",
    "purchaseCountSpender = groupedSpenders[\"Purchase ID\"].count()\n",
    "avgPurchasePriceSpender = groupedSpenders[\"Price\"].mean()\n",
    "purchaseTotalSpender = groupedSpenders[\"Price\"].sum()\n",
    "topSpenders = pd.DataFrame({\"Purchase Count\": purchaseCountSpender,\n",
    "                             \"Average Purchase Price\": avgPurchasePriceSpender,\n",
    "                             \"Total Purchase Value\":purchaseTotalSpender})\n",
    "\n",
    "sortedSpenders = topSpenders.sort_values([\"Total Purchase Value\"], ascending=False).head()\n",
    "sortedSpenders.style.format({\"Average Purchase Total\":\"${:,.2f}\",\n",
    "                                 \"Average Purchase Price\":\"${:,.2f}\", \n",
    "                                 \"Total Purchase Value\":\"${:,.2f}\"})\n",
    "                                              "
   ]
  },
  {
   "cell_type": "code",
   "execution_count": 9,
   "id": "bcc123c3",
   "metadata": {},
   "outputs": [
    {
     "data": {
      "text/html": [
       "<style  type=\"text/css\" >\n",
       "</style><table id=\"T_85631_\" ><thead>    <tr>        <th class=\"blank\" ></th>        <th class=\"blank level0\" ></th>        <th class=\"col_heading level0 col0\" >Purchase Count</th>        <th class=\"col_heading level0 col1\" >Item Price</th>        <th class=\"col_heading level0 col2\" >Total Purchase Value</th>    </tr>    <tr>        <th class=\"index_name level0\" >Item ID</th>        <th class=\"index_name level1\" >Item Name</th>        <th class=\"blank\" ></th>        <th class=\"blank\" ></th>        <th class=\"blank\" ></th>    </tr></thead><tbody>\n",
       "                <tr>\n",
       "                        <th id=\"T_85631_level0_row0\" class=\"row_heading level0 row0\" >92</th>\n",
       "                        <th id=\"T_85631_level1_row0\" class=\"row_heading level1 row0\" >Final Critic</th>\n",
       "                        <td id=\"T_85631_row0_col0\" class=\"data row0 col0\" >13</td>\n",
       "                        <td id=\"T_85631_row0_col1\" class=\"data row0 col1\" >$4.61</td>\n",
       "                        <td id=\"T_85631_row0_col2\" class=\"data row0 col2\" >$59.99</td>\n",
       "            </tr>\n",
       "            <tr>\n",
       "                        <th id=\"T_85631_level0_row1\" class=\"row_heading level0 row1\" >178</th>\n",
       "                        <th id=\"T_85631_level1_row1\" class=\"row_heading level1 row1\" >Oathbreaker, Last Hope of the Breaking Storm</th>\n",
       "                        <td id=\"T_85631_row1_col0\" class=\"data row1 col0\" >12</td>\n",
       "                        <td id=\"T_85631_row1_col1\" class=\"data row1 col1\" >$4.23</td>\n",
       "                        <td id=\"T_85631_row1_col2\" class=\"data row1 col2\" >$50.76</td>\n",
       "            </tr>\n",
       "            <tr>\n",
       "                        <th id=\"T_85631_level0_row2\" class=\"row_heading level0 row2\" >145</th>\n",
       "                        <th id=\"T_85631_level1_row2\" class=\"row_heading level1 row2\" >Fiery Glass Crusader</th>\n",
       "                        <td id=\"T_85631_row2_col0\" class=\"data row2 col0\" >9</td>\n",
       "                        <td id=\"T_85631_row2_col1\" class=\"data row2 col1\" >$4.58</td>\n",
       "                        <td id=\"T_85631_row2_col2\" class=\"data row2 col2\" >$41.22</td>\n",
       "            </tr>\n",
       "            <tr>\n",
       "                        <th id=\"T_85631_level0_row3\" class=\"row_heading level0 row3\" >132</th>\n",
       "                        <th id=\"T_85631_level1_row3\" class=\"row_heading level1 row3\" >Persuasion</th>\n",
       "                        <td id=\"T_85631_row3_col0\" class=\"data row3 col0\" >9</td>\n",
       "                        <td id=\"T_85631_row3_col1\" class=\"data row3 col1\" >$3.22</td>\n",
       "                        <td id=\"T_85631_row3_col2\" class=\"data row3 col2\" >$28.99</td>\n",
       "            </tr>\n",
       "            <tr>\n",
       "                        <th id=\"T_85631_level0_row4\" class=\"row_heading level0 row4\" >108</th>\n",
       "                        <th id=\"T_85631_level1_row4\" class=\"row_heading level1 row4\" >Extraction, Quickblade Of Trembling Hands</th>\n",
       "                        <td id=\"T_85631_row4_col0\" class=\"data row4 col0\" >9</td>\n",
       "                        <td id=\"T_85631_row4_col1\" class=\"data row4 col1\" >$3.53</td>\n",
       "                        <td id=\"T_85631_row4_col2\" class=\"data row4 col2\" >$31.77</td>\n",
       "            </tr>\n",
       "    </tbody></table>"
      ],
      "text/plain": [
       "<pandas.io.formats.style.Styler at 0x2810dd53820>"
      ]
     },
     "execution_count": 9,
     "metadata": {},
     "output_type": "execute_result"
    }
   ],
   "source": [
    "items = purchaseDataFrame[[\"Item ID\", \"Item Name\", \"Price\"]]\n",
    "groupedItems = items.groupby([\"Item ID\",\"Item Name\"])\n",
    "purchaseItemCount = groupedItems[\"Price\"].count()\n",
    "purchaseValue = (groupedItems[\"Price\"].sum()) \n",
    "itemPrice = purchaseValue/purchaseItemCount\n",
    "mostPopularItems = pd.DataFrame({\"Purchase Count\": purchaseItemCount, \n",
    "                                   \"Item Price\": itemPrice,\n",
    "                                   \"Total Purchase Value\":purchaseValue})\n",
    "\n",
    "sortedPopular = mostPopularItems.sort_values([\"Purchase Count\"], ascending=False).head()\n",
    "sortedPopular.style.format({\"Item Price\":\"${:,.2f}\",\n",
    "                                \"Total Purchase Value\":\"${:,.2f}\"})"
   ]
  },
  {
   "cell_type": "code",
   "execution_count": 10,
   "id": "04a8d947",
   "metadata": {},
   "outputs": [
    {
     "data": {
      "text/html": [
       "<style  type=\"text/css\" >\n",
       "</style><table id=\"T_5b5b7_\" ><thead>    <tr>        <th class=\"blank\" ></th>        <th class=\"blank level0\" ></th>        <th class=\"col_heading level0 col0\" >Purchase Count</th>        <th class=\"col_heading level0 col1\" >Item Price</th>        <th class=\"col_heading level0 col2\" >Total Purchase Value</th>    </tr>    <tr>        <th class=\"index_name level0\" >Item ID</th>        <th class=\"index_name level1\" >Item Name</th>        <th class=\"blank\" ></th>        <th class=\"blank\" ></th>        <th class=\"blank\" ></th>    </tr></thead><tbody>\n",
       "                <tr>\n",
       "                        <th id=\"T_5b5b7_level0_row0\" class=\"row_heading level0 row0\" >92</th>\n",
       "                        <th id=\"T_5b5b7_level1_row0\" class=\"row_heading level1 row0\" >Final Critic</th>\n",
       "                        <td id=\"T_5b5b7_row0_col0\" class=\"data row0 col0\" >13</td>\n",
       "                        <td id=\"T_5b5b7_row0_col1\" class=\"data row0 col1\" >$4.61</td>\n",
       "                        <td id=\"T_5b5b7_row0_col2\" class=\"data row0 col2\" >$59.99</td>\n",
       "            </tr>\n",
       "            <tr>\n",
       "                        <th id=\"T_5b5b7_level0_row1\" class=\"row_heading level0 row1\" >178</th>\n",
       "                        <th id=\"T_5b5b7_level1_row1\" class=\"row_heading level1 row1\" >Oathbreaker, Last Hope of the Breaking Storm</th>\n",
       "                        <td id=\"T_5b5b7_row1_col0\" class=\"data row1 col0\" >12</td>\n",
       "                        <td id=\"T_5b5b7_row1_col1\" class=\"data row1 col1\" >$4.23</td>\n",
       "                        <td id=\"T_5b5b7_row1_col2\" class=\"data row1 col2\" >$50.76</td>\n",
       "            </tr>\n",
       "            <tr>\n",
       "                        <th id=\"T_5b5b7_level0_row2\" class=\"row_heading level0 row2\" >82</th>\n",
       "                        <th id=\"T_5b5b7_level1_row2\" class=\"row_heading level1 row2\" >Nirvana</th>\n",
       "                        <td id=\"T_5b5b7_row2_col0\" class=\"data row2 col0\" >9</td>\n",
       "                        <td id=\"T_5b5b7_row2_col1\" class=\"data row2 col1\" >$4.90</td>\n",
       "                        <td id=\"T_5b5b7_row2_col2\" class=\"data row2 col2\" >$44.10</td>\n",
       "            </tr>\n",
       "            <tr>\n",
       "                        <th id=\"T_5b5b7_level0_row3\" class=\"row_heading level0 row3\" >145</th>\n",
       "                        <th id=\"T_5b5b7_level1_row3\" class=\"row_heading level1 row3\" >Fiery Glass Crusader</th>\n",
       "                        <td id=\"T_5b5b7_row3_col0\" class=\"data row3 col0\" >9</td>\n",
       "                        <td id=\"T_5b5b7_row3_col1\" class=\"data row3 col1\" >$4.58</td>\n",
       "                        <td id=\"T_5b5b7_row3_col2\" class=\"data row3 col2\" >$41.22</td>\n",
       "            </tr>\n",
       "            <tr>\n",
       "                        <th id=\"T_5b5b7_level0_row4\" class=\"row_heading level0 row4\" >103</th>\n",
       "                        <th id=\"T_5b5b7_level1_row4\" class=\"row_heading level1 row4\" >Singed Scalpel</th>\n",
       "                        <td id=\"T_5b5b7_row4_col0\" class=\"data row4 col0\" >8</td>\n",
       "                        <td id=\"T_5b5b7_row4_col1\" class=\"data row4 col1\" >$4.35</td>\n",
       "                        <td id=\"T_5b5b7_row4_col2\" class=\"data row4 col2\" >$34.80</td>\n",
       "            </tr>\n",
       "    </tbody></table>"
      ],
      "text/plain": [
       "<pandas.io.formats.style.Styler at 0x2810dd60490>"
      ]
     },
     "execution_count": 10,
     "metadata": {},
     "output_type": "execute_result"
    }
   ],
   "source": [
    "sortedPopular = mostPopularItems.sort_values([\"Total Purchase Value\"], ascending=False).head()\n",
    "sortedPopular.style.format({\"Item Price\":\"${:,.2f}\", \"Total Purchase Value\":\"${:,.2f}\"})\n"
   ]
  }
 ],
 "metadata": {
  "kernelspec": {
   "display_name": "Python 3",
   "language": "python",
   "name": "python3"
  },
  "language_info": {
   "codemirror_mode": {
    "name": "ipython",
    "version": 3
   },
   "file_extension": ".py",
   "mimetype": "text/x-python",
   "name": "python",
   "nbconvert_exporter": "python",
   "pygments_lexer": "ipython3",
   "version": "3.8.8"
  }
 },
 "nbformat": 4,
 "nbformat_minor": 5
}
